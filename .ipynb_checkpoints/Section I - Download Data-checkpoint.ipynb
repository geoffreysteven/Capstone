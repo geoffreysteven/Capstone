{
 "cells": [
  {
   "cell_type": "markdown",
   "metadata": {},
   "source": [
    "## Section I: Download Data\n",
    "\n",
    "The source data for this project originates from a number of sources including EODData and Quandl. It has been cleaned and organized from a seperate AI investing project that I have been working on. \n",
    "\n",
    "For sake of conciseness, the necessary datasets are download from the AI Investing project and saved locally here.\n",
    "\n",
    "**This workbook will not work at Udacity.**\n",
    "\n",
    "The workbook accesses a dataset of 1TB in size which is stored locally.\n",
    "\n",
    "The final dataset used in this project is saved as SP500.pickle"
   ]
  },
  {
   "cell_type": "code",
   "execution_count": 1,
   "metadata": {},
   "outputs": [
    {
     "name": "stdout",
     "output_type": "stream",
     "text": [
      "Hostname is: ubuntu\n"
     ]
    },
    {
     "ename": "ValueError",
     "evalue": "Hostname is invalid: ubuntu",
     "output_type": "error",
     "traceback": [
      "\u001b[0;31m---------------------------------------------------------------------------\u001b[0m",
      "\u001b[0;31mValueError\u001b[0m                                Traceback (most recent call last)",
      "\u001b[0;32m<ipython-input-1-f12cf27e09dc>\u001b[0m in \u001b[0;36m<module>\u001b[0;34m\u001b[0m\n\u001b[1;32m      6\u001b[0m \u001b[0;32mif\u001b[0m \u001b[0mhostname\u001b[0m \u001b[0;32mnot\u001b[0m \u001b[0;32min\u001b[0m \u001b[0;34m(\u001b[0m\u001b[0;34m\"mac\"\u001b[0m\u001b[0;34m,\u001b[0m \u001b[0;34m\"laptop\"\u001b[0m\u001b[0;34m)\u001b[0m\u001b[0;34m:\u001b[0m\u001b[0;34m\u001b[0m\u001b[0m\n\u001b[1;32m      7\u001b[0m     \u001b[0moverwrite\u001b[0m \u001b[0;34m=\u001b[0m \u001b[0;32mFalse\u001b[0m\u001b[0;34m\u001b[0m\u001b[0m\n\u001b[0;32m----> 8\u001b[0;31m     \u001b[0;32mraise\u001b[0m \u001b[0mValueError\u001b[0m\u001b[0;34m(\u001b[0m\u001b[0;34m'Hostname is invalid: {}'\u001b[0m\u001b[0;34m.\u001b[0m\u001b[0mformat\u001b[0m\u001b[0;34m(\u001b[0m\u001b[0mhostname\u001b[0m\u001b[0;34m)\u001b[0m\u001b[0;34m)\u001b[0m\u001b[0;34m\u001b[0m\u001b[0m\n\u001b[0m\u001b[1;32m      9\u001b[0m     \u001b[0;32mraise\u001b[0m \u001b[0mSystemExit\u001b[0m\u001b[0;34m\u001b[0m\u001b[0m\n\u001b[1;32m     10\u001b[0m \u001b[0;32melse\u001b[0m\u001b[0;34m:\u001b[0m\u001b[0;34m\u001b[0m\u001b[0m\n",
      "\u001b[0;31mValueError\u001b[0m: Hostname is invalid: ubuntu"
     ]
    }
   ],
   "source": [
    "# Check to make sure this is only running locally\n",
    "import socket\n",
    "hostname = socket.gethostname().split(\".\")[0].lower()\n",
    "print(\"Hostname is: {}\".format(hostname))\n",
    "\n",
    "if hostname not in (\"mac\", \"laptop\"):\n",
    "    overwrite = False\n",
    "    raise ValueError('Hostname is invalid: {}, Stopping execution.'.format(hostname))\n",
    "    raise SystemExit\n",
    "else:\n",
    "    overwrite = True"
   ]
  },
  {
   "cell_type": "markdown",
   "metadata": {},
   "source": [
    "### Global definitions"
   ]
  },
  {
   "cell_type": "code",
   "execution_count": 2,
   "metadata": {},
   "outputs": [],
   "source": [
    "# Symbols to add that may correlate to our target\n",
    "\n",
    "symbol_list = ['DJI', 'COMP', 'VIX', 'GLD']\n",
    "save_name = \"sp500.pickle\""
   ]
  },
  {
   "cell_type": "markdown",
   "metadata": {},
   "source": [
    "### Original Data Download\n",
    "\n",
    "Read in the original index dataframe for processing from the seperate AI data project. Extract the date range and desired fields."
   ]
  },
  {
   "cell_type": "code",
   "execution_count": 3,
   "metadata": {},
   "outputs": [],
   "source": [
    "import pandas as pd\n",
    "import numpy as np\n",
    "\n",
    "from aivre.eod.index import Index # my local data source for indexes\n",
    "\n",
    "import matplotlib.pyplot as plt\n",
    "%matplotlib inline  \n",
    "plt.close('all')\n"
   ]
  },
  {
   "cell_type": "code",
   "execution_count": 4,
   "metadata": {},
   "outputs": [
    {
     "name": "stdout",
     "output_type": "stream",
     "text": [
      "CPU times: user 12 s, sys: 1.93 s, total: 13.9 s\n",
      "Wall time: 14.2 s\n",
      "Data frame shape: (3874451, 29)\n",
      "Data frame size: 112359079\n",
      "Index names: ['Symbol', 'Date']\n"
     ]
    }
   ],
   "source": [
    "# Extract entire Index dataframe of 3000+ symbols\n",
    "\n",
    "%time df = Index().df\n",
    "print(\"Data frame shape: {}\".format(df.shape))\n",
    "print(\"Data frame size: {}\".format(df.size))\n",
    "print(\"Index names: {}\".format(df.index.names))\n",
    "# print(df.info())"
   ]
  },
  {
   "cell_type": "code",
   "execution_count": 5,
   "metadata": {},
   "outputs": [
    {
     "name": "stdout",
     "output_type": "stream",
     "text": [
      "Swap Data frame shape: (3202767, 29)\n",
      "Swap Data frame size: 92880243\n",
      "Swap Index names: ['Date', 'Symbol']\n"
     ]
    }
   ],
   "source": [
    "# Filter data to requested date range of 2010-2018\n",
    "# easiest way is to flip the the inex\n",
    "\n",
    "swap = df.copy().swaplevel(i=-2, j=-1, axis=0).sort_index()\n",
    "swap = swap.loc[\"2010-01-04\":\"2018-12-31\"] \n",
    "\n",
    "print(\"Swap Data frame shape: {}\".format(swap.shape))\n",
    "print(\"Swap Data frame size: {}\".format(swap.size))\n",
    "print(\"Swap Index names: {}\".format(swap.index.names))\n",
    "\n"
   ]
  },
  {
   "cell_type": "code",
   "execution_count": 6,
   "metadata": {},
   "outputs": [
    {
     "name": "stdout",
     "output_type": "stream",
     "text": [
      "Data frame shape: (3202767, 16)\n",
      "Data frame size: 51244272\n",
      "Index names: ['Symbol', 'Date']\n",
      "Count index symbols: 2438\n"
     ]
    }
   ],
   "source": [
    "# Create df with date range and required columns\n",
    "\n",
    "# flip the index back\n",
    "df = swap.copy().swaplevel(i=-2, j=-1, axis=0).sort_index()\n",
    "\n",
    "# drop unwanted columns, note Prior_Close+ as it the same as Target+\n",
    "df = df[['Date', \n",
    "         'Prior', 'Open', 'High', 'Low', 'Close', 'Volume',\n",
    "         'Prior_Close',  'Prior_Open',  'Open_Close',  'High_Low',\n",
    "         'Prior_Close+', 'Prior_Open+', 'Open_Close+', 'High_Low+',\n",
    "         'Target+']]\n",
    "\n",
    "print(\"Data frame shape: {}\".format(df.shape))\n",
    "print(\"Data frame size: {}\".format(df.size))\n",
    "print(\"Index names: {}\".format(df.index.names))\n",
    "print(\"Count index symbols: {}\".format(len(df.index.get_level_values(0).unique())))\n",
    "# print(\"Unique index symbols: {}\".format(df.index.get_level_values(0).unique()))\n"
   ]
  },
  {
   "cell_type": "code",
   "execution_count": null,
   "metadata": {},
   "outputs": [],
   "source": []
  },
  {
   "cell_type": "markdown",
   "metadata": {},
   "source": [
    "### Correlation to the  SP500\n",
    "\n",
    "Find the index symbols with the higest positive or negative correlation to the SP500 daily percent change for the following day.\n",
    "\n",
    "This is an academic exercise to see which symbols strongly relate to the SP500."
   ]
  },
  {
   "cell_type": "code",
   "execution_count": 7,
   "metadata": {},
   "outputs": [
    {
     "name": "stdout",
     "output_type": "stream",
     "text": [
      "Number of indexes: 2439\n"
     ]
    }
   ],
   "source": [
    "# Create a dataframe of closing percent changes\n",
    "df_corr = df['Prior_Close+'].unstack(level=0)\n",
    "\n",
    "# optional: use a dataset with no missing values\n",
    "# df_corr = df_corr.dropna(how='any', axis=1)\n",
    "\n",
    "# Move the prior_close+ by one day\n",
    "df_corr['Target'] = df_corr['SP500']#.shift(-1)\n",
    "\n",
    "# limit to traning data only\n",
    "df_corr = df_corr[\"2010-01-04\":\"2017-12-31\"] \n",
    "print(\"Number of indexes: {}\".format(len(df_corr.columns)))\n"
   ]
  },
  {
   "cell_type": "code",
   "execution_count": 8,
   "metadata": {},
   "outputs": [
    {
     "name": "stderr",
     "output_type": "stream",
     "text": [
      "/Users/geoffrey/anaconda3/envs/ai/lib/python3.6/site-packages/numpy/lib/function_base.py:2392: RuntimeWarning: Degrees of freedom <= 0 for slice\n",
      "  c = cov(x, y, rowvar)\n",
      "/Users/geoffrey/anaconda3/envs/ai/lib/python3.6/site-packages/numpy/lib/function_base.py:2326: RuntimeWarning: divide by zero encountered in true_divide\n",
      "  c *= np.true_divide(1, fact)\n"
     ]
    },
    {
     "name": "stdout",
     "output_type": "stream",
     "text": [
      "Correlation score DJI : 0.965575\n",
      "Correlation score COMP : 0.952042\n",
      "Correlation score VIX : -0.800188\n",
      "Correlation score GLD : 0.002942\n"
     ]
    }
   ],
   "source": [
    "corr = df_corr[df_corr.columns[0:-1]].apply(\n",
    "    lambda x: x.corr(df_corr['Target']))\n",
    "# corr = corr.dropna()\n",
    "\n",
    "for symbol in symbol_list:\n",
    "    print(\"Correlation score {} : {:f}\".format(symbol, corr[symbol]))"
   ]
  },
  {
   "cell_type": "code",
   "execution_count": 9,
   "metadata": {},
   "outputs": [
    {
     "data": {
      "text/plain": [
       "Symbol\n",
       "SYFI   NaN\n",
       "SYOF   NaN\n",
       "SYOH   NaN\n",
       "SYTH   NaN\n",
       "SYTW   NaN\n",
       "UNCC   NaN\n",
       "UNCU   NaN\n",
       "UVCC   NaN\n",
       "UVCU   NaN\n",
       "VFY    NaN\n",
       "dtype: float64"
      ]
     },
     "execution_count": 9,
     "metadata": {},
     "output_type": "execute_result"
    }
   ],
   "source": [
    "# top positive correlated indexes\n",
    "corr.sort_values().tail(10)"
   ]
  },
  {
   "cell_type": "code",
   "execution_count": 10,
   "metadata": {},
   "outputs": [
    {
     "data": {
      "text/plain": [
       "Symbol\n",
       "SIUT   -0.998827\n",
       "STRS   -0.998826\n",
       "VXV    -0.833013\n",
       "VXB    -0.800819\n",
       "VIX    -0.800188\n",
       "VXO    -0.793137\n",
       "RVX    -0.791256\n",
       "VWA    -0.788389\n",
       "VVOL   -0.785766\n",
       "DDA    -0.782520\n",
       "dtype: float64"
      ]
     },
     "execution_count": 10,
     "metadata": {},
     "output_type": "execute_result"
    }
   ],
   "source": [
    "# top negative correlated indexes\n",
    "corr.sort_values().head(10)"
   ]
  },
  {
   "cell_type": "markdown",
   "metadata": {},
   "source": [
    "### Extract Required Index Symbols \n",
    "\n",
    "The original dataset consists of thousands of indexes spanning data from 2004. \n",
    "\n",
    "Which is why it is initially 112 megabytes in size. We only need the ones we care about, their absoluate value and daily percent changes.\n",
    "\n"
   ]
  },
  {
   "cell_type": "code",
   "execution_count": 11,
   "metadata": {},
   "outputs": [
    {
     "data": {
      "text/html": [
       "<div>\n",
       "<style scoped>\n",
       "    .dataframe tbody tr th:only-of-type {\n",
       "        vertical-align: middle;\n",
       "    }\n",
       "\n",
       "    .dataframe tbody tr th {\n",
       "        vertical-align: top;\n",
       "    }\n",
       "\n",
       "    .dataframe thead th {\n",
       "        text-align: right;\n",
       "    }\n",
       "</style>\n",
       "<table border=\"1\" class=\"dataframe\">\n",
       "  <thead>\n",
       "    <tr style=\"text-align: right;\">\n",
       "      <th></th>\n",
       "      <th>Open</th>\n",
       "      <th>High</th>\n",
       "      <th>Low</th>\n",
       "      <th>Close</th>\n",
       "      <th>Volume</th>\n",
       "    </tr>\n",
       "    <tr>\n",
       "      <th>Date</th>\n",
       "      <th></th>\n",
       "      <th></th>\n",
       "      <th></th>\n",
       "      <th></th>\n",
       "      <th></th>\n",
       "    </tr>\n",
       "  </thead>\n",
       "  <tbody>\n",
       "    <tr>\n",
       "      <th>2018-12-24</th>\n",
       "      <td>2400.560059</td>\n",
       "      <td>2410.340088</td>\n",
       "      <td>2351.100098</td>\n",
       "      <td>2351.100098</td>\n",
       "      <td>1.724367e+09</td>\n",
       "    </tr>\n",
       "    <tr>\n",
       "      <th>2018-12-26</th>\n",
       "      <td>2363.120117</td>\n",
       "      <td>2467.760010</td>\n",
       "      <td>2346.580078</td>\n",
       "      <td>2467.699951</td>\n",
       "      <td>2.731627e+09</td>\n",
       "    </tr>\n",
       "    <tr>\n",
       "      <th>2018-12-27</th>\n",
       "      <td>2442.500000</td>\n",
       "      <td>2489.100098</td>\n",
       "      <td>2397.939941</td>\n",
       "      <td>2488.830078</td>\n",
       "      <td>2.552055e+09</td>\n",
       "    </tr>\n",
       "    <tr>\n",
       "      <th>2018-12-28</th>\n",
       "      <td>2498.770020</td>\n",
       "      <td>2520.270020</td>\n",
       "      <td>2472.889893</td>\n",
       "      <td>2485.739990</td>\n",
       "      <td>2.209846e+09</td>\n",
       "    </tr>\n",
       "    <tr>\n",
       "      <th>2018-12-31</th>\n",
       "      <td>2498.939941</td>\n",
       "      <td>2509.239990</td>\n",
       "      <td>2482.820068</td>\n",
       "      <td>2506.850098</td>\n",
       "      <td>1.998138e+09</td>\n",
       "    </tr>\n",
       "  </tbody>\n",
       "</table>\n",
       "</div>"
      ],
      "text/plain": [
       "                   Open         High          Low        Close        Volume\n",
       "Date                                                                        \n",
       "2018-12-24  2400.560059  2410.340088  2351.100098  2351.100098  1.724367e+09\n",
       "2018-12-26  2363.120117  2467.760010  2346.580078  2467.699951  2.731627e+09\n",
       "2018-12-27  2442.500000  2489.100098  2397.939941  2488.830078  2.552055e+09\n",
       "2018-12-28  2498.770020  2520.270020  2472.889893  2485.739990  2.209846e+09\n",
       "2018-12-31  2498.939941  2509.239990  2482.820068  2506.850098  1.998138e+09"
      ]
     },
     "execution_count": 11,
     "metadata": {},
     "output_type": "execute_result"
    }
   ],
   "source": [
    "# Generate the initial SP500 data\n",
    "df_sp500 = df.loc['SP500'].reset_index(drop=True).set_index('Date')\n",
    "df_sp500[['Open', 'High', 'Low', 'Close', 'Volume']].tail(5)"
   ]
  },
  {
   "cell_type": "code",
   "execution_count": 12,
   "metadata": {},
   "outputs": [],
   "source": [
    "df_aggregate = df_sp500.copy()\n",
    "index_df_list = []\n",
    "\n",
    "for symbol in symbol_list:\n",
    "    df_temp = df.loc[symbol].reset_index(drop=True).set_index('Date')\n",
    "    df_temp = df_temp[['Close', 'Prior_Close+']]\n",
    "    df_temp.columns = [symbol, symbol + \"+\"]\n",
    "    df_aggregate = df_aggregate.join(df_temp)\n",
    "#     print(df_temp.tail(2))"
   ]
  },
  {
   "cell_type": "code",
   "execution_count": 13,
   "metadata": {},
   "outputs": [
    {
     "data": {
      "text/plain": [
       "Index(['Prior', 'Open', 'High', 'Low', 'Close', 'Volume', 'Prior_Close', 'Prior_Open', 'Open_Close', 'High_Low', 'Prior_Close+', 'Prior_Open+', 'Open_Close+', 'High_Low+', 'Target+', 'DJI', 'DJI+',\n",
       "       'COMP', 'COMP+', 'VIX', 'VIX+', 'GLD', 'GLD+'],\n",
       "      dtype='object')"
      ]
     },
     "execution_count": 13,
     "metadata": {},
     "output_type": "execute_result"
    }
   ],
   "source": [
    "df_aggregate.columns"
   ]
  },
  {
   "cell_type": "code",
   "execution_count": 14,
   "metadata": {},
   "outputs": [
    {
     "data": {
      "text/html": [
       "<div>\n",
       "<style scoped>\n",
       "    .dataframe tbody tr th:only-of-type {\n",
       "        vertical-align: middle;\n",
       "    }\n",
       "\n",
       "    .dataframe tbody tr th {\n",
       "        vertical-align: top;\n",
       "    }\n",
       "\n",
       "    .dataframe thead th {\n",
       "        text-align: right;\n",
       "    }\n",
       "</style>\n",
       "<table border=\"1\" class=\"dataframe\">\n",
       "  <thead>\n",
       "    <tr style=\"text-align: right;\">\n",
       "      <th>Date</th>\n",
       "      <th>2018-12-28 00:00:00</th>\n",
       "      <th>2018-12-31 00:00:00</th>\n",
       "    </tr>\n",
       "  </thead>\n",
       "  <tbody>\n",
       "    <tr>\n",
       "      <th>Prior</th>\n",
       "      <td>2.488830e+03</td>\n",
       "      <td>2.485740e+03</td>\n",
       "    </tr>\n",
       "    <tr>\n",
       "      <th>Open</th>\n",
       "      <td>2.498770e+03</td>\n",
       "      <td>2.498940e+03</td>\n",
       "    </tr>\n",
       "    <tr>\n",
       "      <th>High</th>\n",
       "      <td>2.520270e+03</td>\n",
       "      <td>2.509240e+03</td>\n",
       "    </tr>\n",
       "    <tr>\n",
       "      <th>Low</th>\n",
       "      <td>2.472890e+03</td>\n",
       "      <td>2.482820e+03</td>\n",
       "    </tr>\n",
       "    <tr>\n",
       "      <th>Close</th>\n",
       "      <td>2.485740e+03</td>\n",
       "      <td>2.506850e+03</td>\n",
       "    </tr>\n",
       "    <tr>\n",
       "      <th>Volume</th>\n",
       "      <td>2.209846e+09</td>\n",
       "      <td>1.998138e+09</td>\n",
       "    </tr>\n",
       "    <tr>\n",
       "      <th>Prior_Close</th>\n",
       "      <td>-3.090088e+00</td>\n",
       "      <td>2.111011e+01</td>\n",
       "    </tr>\n",
       "    <tr>\n",
       "      <th>Prior_Open</th>\n",
       "      <td>9.939941e+00</td>\n",
       "      <td>1.319995e+01</td>\n",
       "    </tr>\n",
       "    <tr>\n",
       "      <th>Open_Close</th>\n",
       "      <td>-1.303003e+01</td>\n",
       "      <td>7.910156e+00</td>\n",
       "    </tr>\n",
       "    <tr>\n",
       "      <th>High_Low</th>\n",
       "      <td>4.738013e+01</td>\n",
       "      <td>2.641992e+01</td>\n",
       "    </tr>\n",
       "    <tr>\n",
       "      <th>Prior_Close+</th>\n",
       "      <td>-1.241583e-01</td>\n",
       "      <td>8.492483e-01</td>\n",
       "    </tr>\n",
       "    <tr>\n",
       "      <th>Prior_Open+</th>\n",
       "      <td>3.993821e-01</td>\n",
       "      <td>5.310270e-01</td>\n",
       "    </tr>\n",
       "    <tr>\n",
       "      <th>Open_Close+</th>\n",
       "      <td>-5.214577e-01</td>\n",
       "      <td>3.165405e-01</td>\n",
       "    </tr>\n",
       "    <tr>\n",
       "      <th>High_Low+</th>\n",
       "      <td>1.896138e+00</td>\n",
       "      <td>1.057245e+00</td>\n",
       "    </tr>\n",
       "    <tr>\n",
       "      <th>Target+</th>\n",
       "      <td>-1.241583e-01</td>\n",
       "      <td>8.492483e-01</td>\n",
       "    </tr>\n",
       "    <tr>\n",
       "      <th>DJI</th>\n",
       "      <td>2.306240e+04</td>\n",
       "      <td>2.332746e+04</td>\n",
       "    </tr>\n",
       "    <tr>\n",
       "      <th>DJI+</th>\n",
       "      <td>-3.302672e-01</td>\n",
       "      <td>1.149319e+00</td>\n",
       "    </tr>\n",
       "    <tr>\n",
       "      <th>COMP</th>\n",
       "      <td>6.584520e+03</td>\n",
       "      <td>6.635280e+03</td>\n",
       "    </tr>\n",
       "    <tr>\n",
       "      <th>COMP+</th>\n",
       "      <td>7.644643e-02</td>\n",
       "      <td>7.708955e-01</td>\n",
       "    </tr>\n",
       "    <tr>\n",
       "      <th>VIX</th>\n",
       "      <td>2.834000e+01</td>\n",
       "      <td>2.542000e+01</td>\n",
       "    </tr>\n",
       "    <tr>\n",
       "      <th>VIX+</th>\n",
       "      <td>-5.407207e+00</td>\n",
       "      <td>-1.030346e+01</td>\n",
       "    </tr>\n",
       "    <tr>\n",
       "      <th>GLD</th>\n",
       "      <td>1.280520e+03</td>\n",
       "      <td>1.282360e+03</td>\n",
       "    </tr>\n",
       "    <tr>\n",
       "      <th>GLD+</th>\n",
       "      <td>2.026688e-01</td>\n",
       "      <td>1.436889e-01</td>\n",
       "    </tr>\n",
       "  </tbody>\n",
       "</table>\n",
       "</div>"
      ],
      "text/plain": [
       "Date            2018-12-28    2018-12-31\n",
       "Prior         2.488830e+03  2.485740e+03\n",
       "Open          2.498770e+03  2.498940e+03\n",
       "High          2.520270e+03  2.509240e+03\n",
       "Low           2.472890e+03  2.482820e+03\n",
       "Close         2.485740e+03  2.506850e+03\n",
       "Volume        2.209846e+09  1.998138e+09\n",
       "Prior_Close  -3.090088e+00  2.111011e+01\n",
       "Prior_Open    9.939941e+00  1.319995e+01\n",
       "Open_Close   -1.303003e+01  7.910156e+00\n",
       "High_Low      4.738013e+01  2.641992e+01\n",
       "Prior_Close+ -1.241583e-01  8.492483e-01\n",
       "Prior_Open+   3.993821e-01  5.310270e-01\n",
       "Open_Close+  -5.214577e-01  3.165405e-01\n",
       "High_Low+     1.896138e+00  1.057245e+00\n",
       "Target+      -1.241583e-01  8.492483e-01\n",
       "DJI           2.306240e+04  2.332746e+04\n",
       "DJI+         -3.302672e-01  1.149319e+00\n",
       "COMP          6.584520e+03  6.635280e+03\n",
       "COMP+         7.644643e-02  7.708955e-01\n",
       "VIX           2.834000e+01  2.542000e+01\n",
       "VIX+         -5.407207e+00 -1.030346e+01\n",
       "GLD           1.280520e+03  1.282360e+03\n",
       "GLD+          2.026688e-01  1.436889e-01"
      ]
     },
     "execution_count": 14,
     "metadata": {},
     "output_type": "execute_result"
    }
   ],
   "source": [
    "# visually confirm the columns are there with data\n",
    "df_aggregate.tail(2).T"
   ]
  },
  {
   "cell_type": "markdown",
   "metadata": {},
   "source": [
    "### Quality Control and Save to Disk\n",
    "\n",
    "The data is stored as a pickle (vs a feather) for ease of use."
   ]
  },
  {
   "cell_type": "code",
   "execution_count": 15,
   "metadata": {},
   "outputs": [],
   "source": [
    "# Sanity check on columns\n",
    "df_final = df_aggregate.copy().drop('Prior_Close+', axis=1) \n",
    "assert('Open' in df_final.columns)\n",
    "assert('Close' in df_final.columns)\n",
    "assert('VIX' in df_final.columns)\n",
    "assert('High_Low+' in df_final.columns)\n",
    "assert('Target+' in df_final.columns)\n",
    "assert('Prior_Close+' not in df_final.columns)"
   ]
  },
  {
   "cell_type": "code",
   "execution_count": 16,
   "metadata": {},
   "outputs": [
    {
     "data": {
      "text/plain": [
       "Index(['VIX', 'VIX+', 'GLD', 'GLD+'], dtype='object')"
      ]
     },
     "execution_count": 16,
     "metadata": {},
     "output_type": "execute_result"
    }
   ],
   "source": [
    "# Scan for missing values\n",
    "df_final.columns[df_final.isnull().any()]"
   ]
  },
  {
   "cell_type": "code",
   "execution_count": 17,
   "metadata": {},
   "outputs": [
    {
     "data": {
      "text/plain": [
       "Index([], dtype='object')"
      ]
     },
     "execution_count": 17,
     "metadata": {},
     "output_type": "execute_result"
    }
   ],
   "source": [
    "# Replace missing values\n",
    "df_final = df_final.interpolate(method='linear', limit_direction='forward', axis=0)\n",
    "df_final.columns[df_final.isnull().any()]"
   ]
  },
  {
   "cell_type": "code",
   "execution_count": 18,
   "metadata": {},
   "outputs": [],
   "source": [
    "# Define the Y's\n",
    "\n",
    "# absolulte target\n",
    "df_final['Target'] = df_final['Close']\n",
    "\n",
    "# Add binary up or down columns, saved as int\n",
    "df_final['Target_'] = df_final['Target+'] >= 0.0\n",
    "df_final['Target_'] = df_final['Target_'].astype(int)\n",
    "\n",
    "# move Target+ column to be last for convenience, \n",
    "name = 'Target+'\n",
    "columns = list(df_final.columns)\n",
    "columns.remove(name)\n",
    "columns.append(name)\n",
    "df_final = df_final[columns]\n",
    "\n",
    "# add in last two columns\n"
   ]
  },
  {
   "cell_type": "code",
   "execution_count": 19,
   "metadata": {},
   "outputs": [
    {
     "name": "stdout",
     "output_type": "stream",
     "text": [
      "<class 'pandas.core.frame.DataFrame'>\n",
      "DatetimeIndex: 2284 entries, 2010-01-04 to 2018-12-31\n",
      "Data columns (total 24 columns):\n",
      "Prior          2284 non-null float32\n",
      "Open           2284 non-null float32\n",
      "High           2284 non-null float32\n",
      "Low            2284 non-null float32\n",
      "Close          2284 non-null float32\n",
      "Volume         2284 non-null float32\n",
      "Prior_Close    2284 non-null float32\n",
      "Prior_Open     2284 non-null float32\n",
      "Open_Close     2284 non-null float32\n",
      "High_Low       2284 non-null float32\n",
      "Prior_Open+    2284 non-null float32\n",
      "Open_Close+    2284 non-null float32\n",
      "High_Low+      2284 non-null float32\n",
      "DJI            2284 non-null float32\n",
      "DJI+           2284 non-null float32\n",
      "COMP           2284 non-null float32\n",
      "COMP+          2284 non-null float32\n",
      "VIX            2284 non-null float32\n",
      "VIX+           2284 non-null float32\n",
      "GLD            2284 non-null float32\n",
      "GLD+           2284 non-null float32\n",
      "Target         2284 non-null float32\n",
      "Target_        2284 non-null int64\n",
      "Target+        2284 non-null float32\n",
      "dtypes: float32(23), int64(1)\n",
      "memory usage: 240.9 KB\n"
     ]
    }
   ],
   "source": [
    "df_final.info()"
   ]
  },
  {
   "cell_type": "code",
   "execution_count": 20,
   "metadata": {},
   "outputs": [],
   "source": [
    "# save to disk, overwrite\n",
    "df_final.to_pickle(\"sp500.pickle\")"
   ]
  },
  {
   "cell_type": "code",
   "execution_count": 21,
   "metadata": {},
   "outputs": [
    {
     "data": {
      "text/plain": [
       "False"
      ]
     },
     "execution_count": 21,
     "metadata": {},
     "output_type": "execute_result"
    }
   ],
   "source": [
    "# verify write is successful\n",
    "check = pd.read_pickle(save_name)\n",
    "check.equals(df)"
   ]
  },
  {
   "cell_type": "code",
   "execution_count": 22,
   "metadata": {},
   "outputs": [
    {
     "data": {
      "text/plain": [
       "Index(['Prior', 'Open', 'High', 'Low', 'Close', 'Volume', 'Prior_Close', 'Prior_Open', 'Open_Close', 'High_Low', 'Prior_Open+', 'Open_Close+', 'High_Low+', 'DJI', 'DJI+', 'COMP', 'COMP+', 'VIX',\n",
       "       'VIX+', 'GLD', 'GLD+', 'Target', 'Target_', 'Target+'],\n",
       "      dtype='object')"
      ]
     },
     "execution_count": 22,
     "metadata": {},
     "output_type": "execute_result"
    }
   ],
   "source": [
    "df_final.columns"
   ]
  },
  {
   "cell_type": "code",
   "execution_count": 23,
   "metadata": {},
   "outputs": [
    {
     "data": {
      "text/plain": [
       "(2284, 24)"
      ]
     },
     "execution_count": 23,
     "metadata": {},
     "output_type": "execute_result"
    }
   ],
   "source": [
    "df_final.shape"
   ]
  },
  {
   "cell_type": "code",
   "execution_count": 24,
   "metadata": {},
   "outputs": [
    {
     "data": {
      "text/html": [
       "<div>\n",
       "<style scoped>\n",
       "    .dataframe tbody tr th:only-of-type {\n",
       "        vertical-align: middle;\n",
       "    }\n",
       "\n",
       "    .dataframe tbody tr th {\n",
       "        vertical-align: top;\n",
       "    }\n",
       "\n",
       "    .dataframe thead th {\n",
       "        text-align: right;\n",
       "    }\n",
       "</style>\n",
       "<table border=\"1\" class=\"dataframe\">\n",
       "  <thead>\n",
       "    <tr style=\"text-align: right;\">\n",
       "      <th>Date</th>\n",
       "      <th>2010-01-04 00:00:00</th>\n",
       "      <th>2010-01-05 00:00:00</th>\n",
       "      <th>2010-01-06 00:00:00</th>\n",
       "    </tr>\n",
       "  </thead>\n",
       "  <tbody>\n",
       "    <tr>\n",
       "      <th>Prior</th>\n",
       "      <td>1.115100e+03</td>\n",
       "      <td>1.132990e+03</td>\n",
       "      <td>1.136520e+03</td>\n",
       "    </tr>\n",
       "    <tr>\n",
       "      <th>Open</th>\n",
       "      <td>1.116560e+03</td>\n",
       "      <td>1.132660e+03</td>\n",
       "      <td>1.135710e+03</td>\n",
       "    </tr>\n",
       "    <tr>\n",
       "      <th>High</th>\n",
       "      <td>1.133870e+03</td>\n",
       "      <td>1.136630e+03</td>\n",
       "      <td>1.139190e+03</td>\n",
       "    </tr>\n",
       "    <tr>\n",
       "      <th>Low</th>\n",
       "      <td>1.116560e+03</td>\n",
       "      <td>1.129660e+03</td>\n",
       "      <td>1.133950e+03</td>\n",
       "    </tr>\n",
       "    <tr>\n",
       "      <th>Close</th>\n",
       "      <td>1.132990e+03</td>\n",
       "      <td>1.136520e+03</td>\n",
       "      <td>1.137140e+03</td>\n",
       "    </tr>\n",
       "    <tr>\n",
       "      <th>Volume</th>\n",
       "      <td>3.991400e+09</td>\n",
       "      <td>2.491020e+09</td>\n",
       "      <td>4.972660e+09</td>\n",
       "    </tr>\n",
       "    <tr>\n",
       "      <th>Prior_Close</th>\n",
       "      <td>1.789001e+01</td>\n",
       "      <td>3.530029e+00</td>\n",
       "      <td>6.199951e-01</td>\n",
       "    </tr>\n",
       "    <tr>\n",
       "      <th>Prior_Open</th>\n",
       "      <td>1.460083e+00</td>\n",
       "      <td>-3.299561e-01</td>\n",
       "      <td>-8.100586e-01</td>\n",
       "    </tr>\n",
       "    <tr>\n",
       "      <th>Open_Close</th>\n",
       "      <td>1.642993e+01</td>\n",
       "      <td>3.859985e+00</td>\n",
       "      <td>1.430054e+00</td>\n",
       "    </tr>\n",
       "    <tr>\n",
       "      <th>High_Low</th>\n",
       "      <td>1.730994e+01</td>\n",
       "      <td>6.969971e+00</td>\n",
       "      <td>5.239990e+00</td>\n",
       "    </tr>\n",
       "    <tr>\n",
       "      <th>Prior_Open+</th>\n",
       "      <td>1.309374e-01</td>\n",
       "      <td>-2.912259e-02</td>\n",
       "      <td>-7.127535e-02</td>\n",
       "    </tr>\n",
       "    <tr>\n",
       "      <th>Open_Close+</th>\n",
       "      <td>1.471478e+00</td>\n",
       "      <td>3.407894e-01</td>\n",
       "      <td>1.259172e-01</td>\n",
       "    </tr>\n",
       "    <tr>\n",
       "      <th>High_Low+</th>\n",
       "      <td>1.550292e+00</td>\n",
       "      <td>6.153630e-01</td>\n",
       "      <td>4.613846e-01</td>\n",
       "    </tr>\n",
       "    <tr>\n",
       "      <th>DJI</th>\n",
       "      <td>1.058396e+04</td>\n",
       "      <td>1.057202e+04</td>\n",
       "      <td>1.057368e+04</td>\n",
       "    </tr>\n",
       "    <tr>\n",
       "      <th>DJI+</th>\n",
       "      <td>1.495104e+00</td>\n",
       "      <td>-1.128163e-01</td>\n",
       "      <td>1.570330e-02</td>\n",
       "    </tr>\n",
       "    <tr>\n",
       "      <th>COMP</th>\n",
       "      <td>2.308420e+03</td>\n",
       "      <td>2.308710e+03</td>\n",
       "      <td>2.301090e+03</td>\n",
       "    </tr>\n",
       "    <tr>\n",
       "      <th>COMP+</th>\n",
       "      <td>1.730605e+00</td>\n",
       "      <td>1.256440e-02</td>\n",
       "      <td>-3.300489e-01</td>\n",
       "    </tr>\n",
       "    <tr>\n",
       "      <th>VIX</th>\n",
       "      <td>2.004000e+01</td>\n",
       "      <td>1.935000e+01</td>\n",
       "      <td>1.916000e+01</td>\n",
       "    </tr>\n",
       "    <tr>\n",
       "      <th>VIX+</th>\n",
       "      <td>-7.564573e+00</td>\n",
       "      <td>-3.443116e+00</td>\n",
       "      <td>-9.819149e-01</td>\n",
       "    </tr>\n",
       "    <tr>\n",
       "      <th>GLD</th>\n",
       "      <td>1.118300e+03</td>\n",
       "      <td>1.118700e+03</td>\n",
       "      <td>1.136500e+03</td>\n",
       "    </tr>\n",
       "    <tr>\n",
       "      <th>GLD+</th>\n",
       "      <td>2.016065e+00</td>\n",
       "      <td>3.575984e-02</td>\n",
       "      <td>1.591137e+00</td>\n",
       "    </tr>\n",
       "    <tr>\n",
       "      <th>Target</th>\n",
       "      <td>1.132990e+03</td>\n",
       "      <td>1.136520e+03</td>\n",
       "      <td>1.137140e+03</td>\n",
       "    </tr>\n",
       "    <tr>\n",
       "      <th>Target_</th>\n",
       "      <td>1.000000e+00</td>\n",
       "      <td>1.000000e+00</td>\n",
       "      <td>1.000000e+00</td>\n",
       "    </tr>\n",
       "    <tr>\n",
       "      <th>Target+</th>\n",
       "      <td>1.604342e+00</td>\n",
       "      <td>3.115676e-01</td>\n",
       "      <td>5.455206e-02</td>\n",
       "    </tr>\n",
       "  </tbody>\n",
       "</table>\n",
       "</div>"
      ],
      "text/plain": [
       "Date           2010-01-04    2010-01-05    2010-01-06\n",
       "Prior        1.115100e+03  1.132990e+03  1.136520e+03\n",
       "Open         1.116560e+03  1.132660e+03  1.135710e+03\n",
       "High         1.133870e+03  1.136630e+03  1.139190e+03\n",
       "Low          1.116560e+03  1.129660e+03  1.133950e+03\n",
       "Close        1.132990e+03  1.136520e+03  1.137140e+03\n",
       "Volume       3.991400e+09  2.491020e+09  4.972660e+09\n",
       "Prior_Close  1.789001e+01  3.530029e+00  6.199951e-01\n",
       "Prior_Open   1.460083e+00 -3.299561e-01 -8.100586e-01\n",
       "Open_Close   1.642993e+01  3.859985e+00  1.430054e+00\n",
       "High_Low     1.730994e+01  6.969971e+00  5.239990e+00\n",
       "Prior_Open+  1.309374e-01 -2.912259e-02 -7.127535e-02\n",
       "Open_Close+  1.471478e+00  3.407894e-01  1.259172e-01\n",
       "High_Low+    1.550292e+00  6.153630e-01  4.613846e-01\n",
       "DJI          1.058396e+04  1.057202e+04  1.057368e+04\n",
       "DJI+         1.495104e+00 -1.128163e-01  1.570330e-02\n",
       "COMP         2.308420e+03  2.308710e+03  2.301090e+03\n",
       "COMP+        1.730605e+00  1.256440e-02 -3.300489e-01\n",
       "VIX          2.004000e+01  1.935000e+01  1.916000e+01\n",
       "VIX+        -7.564573e+00 -3.443116e+00 -9.819149e-01\n",
       "GLD          1.118300e+03  1.118700e+03  1.136500e+03\n",
       "GLD+         2.016065e+00  3.575984e-02  1.591137e+00\n",
       "Target       1.132990e+03  1.136520e+03  1.137140e+03\n",
       "Target_      1.000000e+00  1.000000e+00  1.000000e+00\n",
       "Target+      1.604342e+00  3.115676e-01  5.455206e-02"
      ]
     },
     "execution_count": 24,
     "metadata": {},
     "output_type": "execute_result"
    }
   ],
   "source": [
    "df_final.head(3).T"
   ]
  },
  {
   "cell_type": "code",
   "execution_count": 25,
   "metadata": {},
   "outputs": [
    {
     "data": {
      "text/html": [
       "<div>\n",
       "<style scoped>\n",
       "    .dataframe tbody tr th:only-of-type {\n",
       "        vertical-align: middle;\n",
       "    }\n",
       "\n",
       "    .dataframe tbody tr th {\n",
       "        vertical-align: top;\n",
       "    }\n",
       "\n",
       "    .dataframe thead th {\n",
       "        text-align: right;\n",
       "    }\n",
       "</style>\n",
       "<table border=\"1\" class=\"dataframe\">\n",
       "  <thead>\n",
       "    <tr style=\"text-align: right;\">\n",
       "      <th>Date</th>\n",
       "      <th>2018-12-27 00:00:00</th>\n",
       "      <th>2018-12-28 00:00:00</th>\n",
       "      <th>2018-12-31 00:00:00</th>\n",
       "    </tr>\n",
       "  </thead>\n",
       "  <tbody>\n",
       "    <tr>\n",
       "      <th>Prior</th>\n",
       "      <td>2.467700e+03</td>\n",
       "      <td>2.488830e+03</td>\n",
       "      <td>2.485740e+03</td>\n",
       "    </tr>\n",
       "    <tr>\n",
       "      <th>Open</th>\n",
       "      <td>2.442500e+03</td>\n",
       "      <td>2.498770e+03</td>\n",
       "      <td>2.498940e+03</td>\n",
       "    </tr>\n",
       "    <tr>\n",
       "      <th>High</th>\n",
       "      <td>2.489100e+03</td>\n",
       "      <td>2.520270e+03</td>\n",
       "      <td>2.509240e+03</td>\n",
       "    </tr>\n",
       "    <tr>\n",
       "      <th>Low</th>\n",
       "      <td>2.397940e+03</td>\n",
       "      <td>2.472890e+03</td>\n",
       "      <td>2.482820e+03</td>\n",
       "    </tr>\n",
       "    <tr>\n",
       "      <th>Close</th>\n",
       "      <td>2.488830e+03</td>\n",
       "      <td>2.485740e+03</td>\n",
       "      <td>2.506850e+03</td>\n",
       "    </tr>\n",
       "    <tr>\n",
       "      <th>Volume</th>\n",
       "      <td>2.552055e+09</td>\n",
       "      <td>2.209846e+09</td>\n",
       "      <td>1.998138e+09</td>\n",
       "    </tr>\n",
       "    <tr>\n",
       "      <th>Prior_Close</th>\n",
       "      <td>2.113013e+01</td>\n",
       "      <td>-3.090088e+00</td>\n",
       "      <td>2.111011e+01</td>\n",
       "    </tr>\n",
       "    <tr>\n",
       "      <th>Prior_Open</th>\n",
       "      <td>-2.519995e+01</td>\n",
       "      <td>9.939941e+00</td>\n",
       "      <td>1.319995e+01</td>\n",
       "    </tr>\n",
       "    <tr>\n",
       "      <th>Open_Close</th>\n",
       "      <td>4.633008e+01</td>\n",
       "      <td>-1.303003e+01</td>\n",
       "      <td>7.910156e+00</td>\n",
       "    </tr>\n",
       "    <tr>\n",
       "      <th>High_Low</th>\n",
       "      <td>9.116016e+01</td>\n",
       "      <td>4.738013e+01</td>\n",
       "      <td>2.641992e+01</td>\n",
       "    </tr>\n",
       "    <tr>\n",
       "      <th>Prior_Open+</th>\n",
       "      <td>-1.021192e+00</td>\n",
       "      <td>3.993821e-01</td>\n",
       "      <td>5.310270e-01</td>\n",
       "    </tr>\n",
       "    <tr>\n",
       "      <th>Open_Close+</th>\n",
       "      <td>1.896830e+00</td>\n",
       "      <td>-5.214577e-01</td>\n",
       "      <td>3.165405e-01</td>\n",
       "    </tr>\n",
       "    <tr>\n",
       "      <th>High_Low+</th>\n",
       "      <td>3.732248e+00</td>\n",
       "      <td>1.896138e+00</td>\n",
       "      <td>1.057245e+00</td>\n",
       "    </tr>\n",
       "    <tr>\n",
       "      <th>DJI</th>\n",
       "      <td>2.313882e+04</td>\n",
       "      <td>2.306240e+04</td>\n",
       "      <td>2.332746e+04</td>\n",
       "    </tr>\n",
       "    <tr>\n",
       "      <th>DJI+</th>\n",
       "      <td>1.138063e+00</td>\n",
       "      <td>-3.302672e-01</td>\n",
       "      <td>1.149319e+00</td>\n",
       "    </tr>\n",
       "    <tr>\n",
       "      <th>COMP</th>\n",
       "      <td>6.579490e+03</td>\n",
       "      <td>6.584520e+03</td>\n",
       "      <td>6.635280e+03</td>\n",
       "    </tr>\n",
       "    <tr>\n",
       "      <th>COMP+</th>\n",
       "      <td>3.834146e-01</td>\n",
       "      <td>7.644643e-02</td>\n",
       "      <td>7.708955e-01</td>\n",
       "    </tr>\n",
       "    <tr>\n",
       "      <th>VIX</th>\n",
       "      <td>2.996000e+01</td>\n",
       "      <td>2.834000e+01</td>\n",
       "      <td>2.542000e+01</td>\n",
       "    </tr>\n",
       "    <tr>\n",
       "      <th>VIX+</th>\n",
       "      <td>-1.479779e+00</td>\n",
       "      <td>-5.407207e+00</td>\n",
       "      <td>-1.030346e+01</td>\n",
       "    </tr>\n",
       "    <tr>\n",
       "      <th>GLD</th>\n",
       "      <td>1.277930e+03</td>\n",
       "      <td>1.280520e+03</td>\n",
       "      <td>1.282360e+03</td>\n",
       "    </tr>\n",
       "    <tr>\n",
       "      <th>GLD+</th>\n",
       "      <td>7.068855e-01</td>\n",
       "      <td>2.026688e-01</td>\n",
       "      <td>1.436889e-01</td>\n",
       "    </tr>\n",
       "    <tr>\n",
       "      <th>Target</th>\n",
       "      <td>2.488830e+03</td>\n",
       "      <td>2.485740e+03</td>\n",
       "      <td>2.506850e+03</td>\n",
       "    </tr>\n",
       "    <tr>\n",
       "      <th>Target_</th>\n",
       "      <td>1.000000e+00</td>\n",
       "      <td>0.000000e+00</td>\n",
       "      <td>1.000000e+00</td>\n",
       "    </tr>\n",
       "    <tr>\n",
       "      <th>Target+</th>\n",
       "      <td>8.562680e-01</td>\n",
       "      <td>-1.241583e-01</td>\n",
       "      <td>8.492483e-01</td>\n",
       "    </tr>\n",
       "  </tbody>\n",
       "</table>\n",
       "</div>"
      ],
      "text/plain": [
       "Date           2018-12-27    2018-12-28    2018-12-31\n",
       "Prior        2.467700e+03  2.488830e+03  2.485740e+03\n",
       "Open         2.442500e+03  2.498770e+03  2.498940e+03\n",
       "High         2.489100e+03  2.520270e+03  2.509240e+03\n",
       "Low          2.397940e+03  2.472890e+03  2.482820e+03\n",
       "Close        2.488830e+03  2.485740e+03  2.506850e+03\n",
       "Volume       2.552055e+09  2.209846e+09  1.998138e+09\n",
       "Prior_Close  2.113013e+01 -3.090088e+00  2.111011e+01\n",
       "Prior_Open  -2.519995e+01  9.939941e+00  1.319995e+01\n",
       "Open_Close   4.633008e+01 -1.303003e+01  7.910156e+00\n",
       "High_Low     9.116016e+01  4.738013e+01  2.641992e+01\n",
       "Prior_Open+ -1.021192e+00  3.993821e-01  5.310270e-01\n",
       "Open_Close+  1.896830e+00 -5.214577e-01  3.165405e-01\n",
       "High_Low+    3.732248e+00  1.896138e+00  1.057245e+00\n",
       "DJI          2.313882e+04  2.306240e+04  2.332746e+04\n",
       "DJI+         1.138063e+00 -3.302672e-01  1.149319e+00\n",
       "COMP         6.579490e+03  6.584520e+03  6.635280e+03\n",
       "COMP+        3.834146e-01  7.644643e-02  7.708955e-01\n",
       "VIX          2.996000e+01  2.834000e+01  2.542000e+01\n",
       "VIX+        -1.479779e+00 -5.407207e+00 -1.030346e+01\n",
       "GLD          1.277930e+03  1.280520e+03  1.282360e+03\n",
       "GLD+         7.068855e-01  2.026688e-01  1.436889e-01\n",
       "Target       2.488830e+03  2.485740e+03  2.506850e+03\n",
       "Target_      1.000000e+00  0.000000e+00  1.000000e+00\n",
       "Target+      8.562680e-01 -1.241583e-01  8.492483e-01"
      ]
     },
     "execution_count": 25,
     "metadata": {},
     "output_type": "execute_result"
    }
   ],
   "source": [
    "df_final.tail(3).T"
   ]
  },
  {
   "cell_type": "code",
   "execution_count": null,
   "metadata": {},
   "outputs": [],
   "source": []
  },
  {
   "cell_type": "code",
   "execution_count": null,
   "metadata": {},
   "outputs": [],
   "source": []
  },
  {
   "cell_type": "code",
   "execution_count": null,
   "metadata": {},
   "outputs": [],
   "source": []
  }
 ],
 "metadata": {
  "kernelspec": {
   "display_name": "Python 3",
   "language": "python",
   "name": "python3"
  },
  "language_info": {
   "codemirror_mode": {
    "name": "ipython",
    "version": 3
   },
   "file_extension": ".py",
   "mimetype": "text/x-python",
   "name": "python",
   "nbconvert_exporter": "python",
   "pygments_lexer": "ipython3",
   "version": "3.6.6"
  }
 },
 "nbformat": 4,
 "nbformat_minor": 2
}
