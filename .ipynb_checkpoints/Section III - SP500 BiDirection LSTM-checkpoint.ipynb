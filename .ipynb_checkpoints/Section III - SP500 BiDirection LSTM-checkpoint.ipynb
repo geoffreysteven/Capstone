{
 "cells": [
  {
   "cell_type": "code",
   "execution_count": 7,
   "metadata": {},
   "outputs": [
    {
     "name": "stdout",
     "output_type": "stream",
     "text": [
      "The autoreload extension is already loaded. To reload it, use:\n",
      "  %reload_ext autoreload\n"
     ]
    }
   ],
   "source": [
    "%load_ext autoreload\n",
    "%autoreload 2\n",
    "%matplotlib inline  "
   ]
  },
  {
   "cell_type": "code",
   "execution_count": 8,
   "metadata": {},
   "outputs": [],
   "source": [
    "import pandas as pd\n",
    "import numpy as np\n",
    "from numpy import array\n",
    "from sklearn.preprocessing import MinMaxScaler\n",
    "from keras.models import Sequential\n",
    "from keras.layers import LSTM\n",
    "from keras.layers import Dense\n",
    "from sklearn.metrics import mean_squared_error\n",
    "from sklearn.metrics import accuracy_score\n",
    "import matplotlib.pyplot as plt\n"
   ]
  },
  {
   "cell_type": "markdown",
   "metadata": {},
   "source": [
    "### Control Variables"
   ]
  },
  {
   "cell_type": "code",
   "execution_count": 9,
   "metadata": {},
   "outputs": [],
   "source": [
    "np.random.seed(42) \n",
    "n_steps = 50"
   ]
  },
  {
   "cell_type": "markdown",
   "metadata": {},
   "source": [
    "### Support Functions"
   ]
  },
  {
   "cell_type": "code",
   "execution_count": 10,
   "metadata": {},
   "outputs": [],
   "source": [
    "# split a multivariate sequence into samples\n",
    "# source: Jason Brownlee - How to Develop LSTM Models for Time Series Forecasting\n",
    "def split_sequences(sequences, n_steps):\n",
    "    X, y = list(), list()\n",
    "    for i in range(len(sequences)):\n",
    "        # find the end of this pattern\n",
    "        end_ix = i + n_steps\n",
    "        # check if we are beyond the dataset\n",
    "        if end_ix > len(sequences):\n",
    "            break\n",
    "        # gather input and output parts of the pattern\n",
    "        seq_x, seq_y = sequences[i:end_ix, :-1], sequences[end_ix-1, -1]\n",
    "        X.append(seq_x)\n",
    "        y.append(seq_y)\n",
    "    return array(X), array(y)\n"
   ]
  },
  {
   "cell_type": "markdown",
   "metadata": {},
   "source": [
    "### Absolute Price LSTM\n",
    "\n",
    "Create a Bidrectional Stacked LSTM for predicting the next day closing price."
   ]
  },
  {
   "cell_type": "code",
   "execution_count": 11,
   "metadata": {},
   "outputs": [
    {
     "name": "stdout",
     "output_type": "stream",
     "text": [
      "Shape of pandas train      set: (1777, 22)\n",
      "Shape of pandas validation set: (253, 22)\n",
      "Shape of pandas test       set: (254, 22)\n",
      "\n",
      "Size of train              set: 1777\n",
      "Size of validation         set: 253\n",
      "Size of test               set: 254\n",
      "\n",
      "Shape of numpy train       set: (1777, 22)\n",
      "Shape of numpy validation  set: (253, 22)\n",
      "Shape of numpy test        set: (254, 22)\n"
     ]
    }
   ],
   "source": [
    "df = pd.read_pickle(\"sp500.pickle\")\n",
    "\n",
    "# choose the correct Y\n",
    "df = df.drop('Target+', axis=1)\n",
    "df = df.drop('Target_', axis=1)\n",
    "df = df.astype('float64')\n",
    "\n",
    "# report initial results\n",
    "print(\"Shape of pandas train      set: {}\".format(df.loc[\"2010-01-01\":\"2017-01-01\"].shape))\n",
    "print(\"Shape of pandas validation set: {}\".format(df.loc[\"2017-01-01\":\"2018-01-01\"].shape))\n",
    "print(\"Shape of pandas test       set: {}\\n\".format(df.loc[\"2018-01-01\":\"2019-01-01\"].shape))\n",
    "\n",
    "# find split coordinates\n",
    "train_size = df.loc[\"2010-01-01\":\"2017-01-01\"].shape[0]\n",
    "validation_size = df.loc[\"2017-01-01\":\"2018-01-01\"].shape[0]\n",
    "test_size = df.loc[\"2018-01-01\":\"2019-01-01\"].shape[0]\n",
    "\n",
    "print(\"Size of train              set: {}\".format(train_size))\n",
    "print(\"Size of validation         set: {}\".format(validation_size))\n",
    "print(\"Size of test               set: {}\\n\".format(test_size))\n",
    "\n",
    "# scale entire dataset\n",
    "scaler = MinMaxScaler(feature_range=(0, 1))\n",
    "dataset = scaler.fit_transform(df)\n",
    "\n",
    "# define sets\n",
    "train = dataset[0:train_size]\n",
    "validation = dataset[train_size : train_size + validation_size]\n",
    "test  = dataset[train_size + validation_size: ]\n",
    "\n",
    "print(\"Shape of numpy train       set: {}\".format(train.shape))\n",
    "print(\"Shape of numpy validation  set: {}\".format(validation.shape))\n",
    "print(\"Shape of numpy test        set: {}\".format(test.shape))\n",
    "\n",
    "# print(scaler.inverse_transform(test)[0] - \n",
    "# df.loc[\"2018-01-01\":\"2019-01-01\"].values[0])"
   ]
  },
  {
   "cell_type": "code",
   "execution_count": 12,
   "metadata": {},
   "outputs": [
    {
     "name": "stdout",
     "output_type": "stream",
     "text": [
      "Number of Steps back: 50\n",
      "Number of Features: 21\n",
      "Train shape       : (1728, 50, 21) (1728,)\n",
      "Validation shape  : (204, 50, 21) (204,)\n",
      "Test shape        : (205, 50, 21) (205,)\n"
     ]
    }
   ],
   "source": [
    "# How many time steps back? - CRITICAL\n",
    "print(\"Number of Steps back:\", n_steps)\n",
    "\n",
    "# convert into X and y\n",
    "X_train, y_train = split_sequences(train, n_steps)\n",
    "X_validation, y_validation = split_sequences(validation, n_steps)\n",
    "X_test,  y_test = split_sequences(test, n_steps)\n",
    "\n",
    "validation_data=(X_validation, y_validation)\n",
    "\n",
    "# define number of features into the model - CRITICAL\n",
    "n_features = X_train.shape[2]\n",
    "print(\"Number of Features:\", n_features)\n",
    "\n",
    "# verify shapes of model inputs\n",
    "print(\"Train shape       :\", X_train.shape, y_train.shape)\n",
    "print(\"Validation shape  :\", X_validation.shape, y_validation.shape)\n",
    "print(\"Test shape        :\", X_test.shape, y_test.shape)\n"
   ]
  },
  {
   "cell_type": "code",
   "execution_count": null,
   "metadata": {},
   "outputs": [
    {
     "name": "stdout",
     "output_type": "stream",
     "text": [
      "WARNING:tensorflow:From /home/geoffrey/anaconda3/envs/ai/lib/python3.7/site-packages/tensorflow/python/framework/op_def_library.py:263: colocate_with (from tensorflow.python.framework.ops) is deprecated and will be removed in a future version.\n",
      "Instructions for updating:\n",
      "Colocations handled automatically by placer.\n",
      "WARNING:tensorflow:From /home/geoffrey/anaconda3/envs/ai/lib/python3.7/site-packages/tensorflow/python/ops/math_ops.py:3066: to_int32 (from tensorflow.python.ops.math_ops) is deprecated and will be removed in a future version.\n",
      "Instructions for updating:\n",
      "Use tf.cast instead.\n",
      "Train on 1728 samples, validate on 204 samples\n",
      "Epoch 1/200\n",
      " - 8s - loss: 0.0017 - acc: 5.7870e-04 - val_loss: 2.0373e-05 - val_acc: 0.0000e+00\n",
      "Epoch 2/200\n",
      " - 5s - loss: 2.6461e-05 - acc: 5.7870e-04 - val_loss: 8.1876e-05 - val_acc: 0.0000e+00\n",
      "Epoch 3/200\n",
      " - 5s - loss: 2.1789e-05 - acc: 5.7870e-04 - val_loss: 1.2667e-04 - val_acc: 0.0000e+00\n",
      "Epoch 4/200\n",
      " - 5s - loss: 1.7466e-05 - acc: 5.7870e-04 - val_loss: 2.5121e-05 - val_acc: 0.0000e+00\n",
      "Epoch 5/200\n",
      " - 5s - loss: 1.6227e-05 - acc: 5.7870e-04 - val_loss: 1.2216e-04 - val_acc: 0.0000e+00\n",
      "Epoch 6/200\n",
      " - 5s - loss: 2.0093e-05 - acc: 5.7870e-04 - val_loss: 9.5275e-05 - val_acc: 0.0000e+00\n",
      "Epoch 7/200\n",
      " - 5s - loss: 1.1995e-05 - acc: 5.7870e-04 - val_loss: 2.7225e-05 - val_acc: 0.0000e+00\n",
      "Epoch 8/200\n",
      " - 5s - loss: 1.2181e-05 - acc: 5.7870e-04 - val_loss: 1.3708e-05 - val_acc: 0.0000e+00\n",
      "Epoch 9/200\n",
      " - 5s - loss: 1.9316e-05 - acc: 5.7870e-04 - val_loss: 2.6559e-05 - val_acc: 0.0000e+00\n",
      "Epoch 10/200\n",
      " - 5s - loss: 1.6089e-05 - acc: 5.7870e-04 - val_loss: 1.2455e-04 - val_acc: 0.0000e+00\n",
      "Epoch 11/200\n",
      " - 5s - loss: 1.4287e-05 - acc: 5.7870e-04 - val_loss: 9.8533e-06 - val_acc: 0.0000e+00\n",
      "Epoch 12/200\n",
      " - 5s - loss: 7.8012e-06 - acc: 5.7870e-04 - val_loss: 9.8575e-06 - val_acc: 0.0000e+00\n",
      "Epoch 13/200\n",
      " - 5s - loss: 9.0139e-06 - acc: 5.7870e-04 - val_loss: 7.1615e-05 - val_acc: 0.0000e+00\n",
      "Epoch 14/200\n",
      " - 5s - loss: 1.8026e-05 - acc: 5.7870e-04 - val_loss: 5.3148e-05 - val_acc: 0.0000e+00\n",
      "Epoch 15/200\n",
      " - 5s - loss: 9.4853e-06 - acc: 5.7870e-04 - val_loss: 8.9669e-05 - val_acc: 0.0000e+00\n",
      "Epoch 16/200\n",
      " - 5s - loss: 1.4273e-05 - acc: 5.7870e-04 - val_loss: 1.4914e-05 - val_acc: 0.0000e+00\n",
      "Epoch 17/200\n",
      " - 5s - loss: 1.3594e-05 - acc: 5.7870e-04 - val_loss: 4.6821e-05 - val_acc: 0.0000e+00\n",
      "Epoch 18/200\n",
      " - 5s - loss: 3.0852e-05 - acc: 5.7870e-04 - val_loss: 4.2938e-05 - val_acc: 0.0000e+00\n",
      "Epoch 19/200\n",
      " - 5s - loss: 7.2927e-06 - acc: 5.7870e-04 - val_loss: 5.5557e-05 - val_acc: 0.0000e+00\n",
      "Epoch 20/200\n",
      " - 5s - loss: 9.3767e-06 - acc: 5.7870e-04 - val_loss: 3.7908e-05 - val_acc: 0.0000e+00\n",
      "Epoch 21/200\n",
      " - 5s - loss: 9.5457e-06 - acc: 5.7870e-04 - val_loss: 2.7551e-05 - val_acc: 0.0000e+00\n",
      "Epoch 22/200\n",
      " - 5s - loss: 9.0940e-06 - acc: 5.7870e-04 - val_loss: 5.0026e-05 - val_acc: 0.0000e+00\n",
      "Epoch 23/200\n",
      " - 5s - loss: 1.3726e-05 - acc: 5.7870e-04 - val_loss: 1.7302e-04 - val_acc: 0.0000e+00\n",
      "Epoch 24/200\n",
      " - 5s - loss: 6.8889e-06 - acc: 5.7870e-04 - val_loss: 2.0393e-05 - val_acc: 0.0000e+00\n",
      "Epoch 25/200\n",
      " - 5s - loss: 6.6112e-06 - acc: 5.7870e-04 - val_loss: 9.6787e-05 - val_acc: 0.0000e+00\n",
      "Epoch 26/200\n",
      " - 5s - loss: 6.6910e-06 - acc: 5.7870e-04 - val_loss: 5.0399e-05 - val_acc: 0.0000e+00\n",
      "Epoch 27/200\n",
      " - 5s - loss: 5.7158e-06 - acc: 5.7870e-04 - val_loss: 8.1859e-06 - val_acc: 0.0000e+00\n",
      "Epoch 28/200\n",
      " - 5s - loss: 9.9812e-06 - acc: 5.7870e-04 - val_loss: 5.2936e-05 - val_acc: 0.0000e+00\n",
      "Epoch 29/200\n",
      " - 5s - loss: 4.6804e-05 - acc: 5.7870e-04 - val_loss: 2.4636e-05 - val_acc: 0.0000e+00\n",
      "Epoch 30/200\n",
      " - 5s - loss: 5.5569e-06 - acc: 5.7870e-04 - val_loss: 8.3580e-05 - val_acc: 0.0000e+00\n",
      "Epoch 31/200\n",
      " - 5s - loss: 4.5581e-06 - acc: 5.7870e-04 - val_loss: 3.2401e-05 - val_acc: 0.0000e+00\n",
      "Epoch 32/200\n",
      " - 5s - loss: 3.8848e-06 - acc: 5.7870e-04 - val_loss: 2.1411e-05 - val_acc: 0.0000e+00\n",
      "Epoch 33/200\n",
      " - 5s - loss: 6.8953e-06 - acc: 5.7870e-04 - val_loss: 1.4920e-05 - val_acc: 0.0000e+00\n",
      "Epoch 34/200\n",
      " - 5s - loss: 3.9622e-06 - acc: 5.7870e-04 - val_loss: 9.3184e-06 - val_acc: 0.0000e+00\n",
      "Epoch 35/200\n",
      " - 5s - loss: 5.7885e-06 - acc: 5.7870e-04 - val_loss: 1.1595e-05 - val_acc: 0.0000e+00\n",
      "Epoch 36/200\n",
      " - 5s - loss: 4.8074e-06 - acc: 5.7870e-04 - val_loss: 8.5280e-05 - val_acc: 0.0000e+00\n",
      "Epoch 37/200\n",
      " - 5s - loss: 1.2549e-05 - acc: 5.7870e-04 - val_loss: 6.1270e-05 - val_acc: 0.0000e+00\n",
      "Epoch 38/200\n",
      " - 5s - loss: 5.0308e-06 - acc: 5.7870e-04 - val_loss: 5.4231e-05 - val_acc: 0.0000e+00\n",
      "Epoch 39/200\n",
      " - 5s - loss: 3.8753e-06 - acc: 5.7870e-04 - val_loss: 6.2560e-06 - val_acc: 0.0000e+00\n",
      "Epoch 40/200\n",
      " - 5s - loss: 5.1880e-06 - acc: 5.7870e-04 - val_loss: 1.0707e-05 - val_acc: 0.0000e+00\n",
      "Epoch 41/200\n",
      " - 5s - loss: 7.7845e-06 - acc: 5.7870e-04 - val_loss: 2.5048e-05 - val_acc: 0.0000e+00\n",
      "Epoch 42/200\n",
      " - 5s - loss: 6.5332e-06 - acc: 5.7870e-04 - val_loss: 8.2449e-06 - val_acc: 0.0000e+00\n",
      "Epoch 43/200\n",
      " - 5s - loss: 4.1560e-06 - acc: 5.7870e-04 - val_loss: 1.7420e-05 - val_acc: 0.0000e+00\n",
      "Epoch 44/200\n",
      " - 5s - loss: 4.6591e-06 - acc: 5.7870e-04 - val_loss: 7.3547e-05 - val_acc: 0.0000e+00\n",
      "Epoch 45/200\n",
      " - 5s - loss: 1.0229e-05 - acc: 5.7870e-04 - val_loss: 1.9037e-05 - val_acc: 0.0000e+00\n",
      "Epoch 46/200\n",
      " - 5s - loss: 3.0720e-06 - acc: 5.7870e-04 - val_loss: 2.7071e-05 - val_acc: 0.0000e+00\n",
      "Epoch 47/200\n",
      " - 5s - loss: 9.8471e-06 - acc: 5.7870e-04 - val_loss: 8.3509e-05 - val_acc: 0.0000e+00\n",
      "Epoch 48/200\n",
      " - 5s - loss: 4.0636e-06 - acc: 5.7870e-04 - val_loss: 4.7205e-05 - val_acc: 0.0000e+00\n",
      "Epoch 49/200\n",
      " - 5s - loss: 1.0865e-05 - acc: 5.7870e-04 - val_loss: 3.9420e-05 - val_acc: 0.0000e+00\n",
      "Epoch 50/200\n",
      " - 5s - loss: 2.7616e-06 - acc: 5.7870e-04 - val_loss: 3.5598e-05 - val_acc: 0.0000e+00\n",
      "Epoch 51/200\n",
      " - 5s - loss: 2.6627e-06 - acc: 5.7870e-04 - val_loss: 4.1345e-05 - val_acc: 0.0000e+00\n",
      "Epoch 52/200\n",
      " - 5s - loss: 3.1958e-06 - acc: 5.7870e-04 - val_loss: 2.5633e-05 - val_acc: 0.0000e+00\n",
      "Epoch 53/200\n",
      " - 5s - loss: 5.9252e-06 - acc: 5.7870e-04 - val_loss: 4.0445e-05 - val_acc: 0.0000e+00\n",
      "Epoch 54/200\n",
      " - 5s - loss: 7.1699e-06 - acc: 5.7870e-04 - val_loss: 7.0093e-05 - val_acc: 0.0000e+00\n",
      "Epoch 55/200\n",
      " - 5s - loss: 3.4040e-06 - acc: 5.7870e-04 - val_loss: 2.1076e-05 - val_acc: 0.0000e+00\n",
      "Epoch 56/200\n",
      " - 5s - loss: 4.3826e-06 - acc: 5.7870e-04 - val_loss: 7.5132e-05 - val_acc: 0.0000e+00\n",
      "Epoch 57/200\n",
      " - 5s - loss: 3.9608e-06 - acc: 5.7870e-04 - val_loss: 6.9434e-06 - val_acc: 0.0000e+00\n",
      "Epoch 58/200\n",
      " - 5s - loss: 5.7230e-06 - acc: 5.7870e-04 - val_loss: 2.5966e-05 - val_acc: 0.0000e+00\n",
      "Epoch 59/200\n",
      " - 5s - loss: 3.1985e-06 - acc: 5.7870e-04 - val_loss: 6.8169e-06 - val_acc: 0.0000e+00\n",
      "Epoch 60/200\n",
      " - 5s - loss: 9.0925e-06 - acc: 5.7870e-04 - val_loss: 3.1117e-05 - val_acc: 0.0000e+00\n",
      "Epoch 61/200\n",
      " - 5s - loss: 7.4948e-06 - acc: 5.7870e-04 - val_loss: 7.9088e-06 - val_acc: 0.0000e+00\n",
      "Epoch 62/200\n",
      " - 5s - loss: 2.1244e-06 - acc: 5.7870e-04 - val_loss: 1.5185e-05 - val_acc: 0.0000e+00\n",
      "Epoch 63/200\n",
      " - 5s - loss: 3.9739e-06 - acc: 5.7870e-04 - val_loss: 5.2477e-05 - val_acc: 0.0000e+00\n",
      "Epoch 64/200\n",
      " - 5s - loss: 4.7493e-06 - acc: 5.7870e-04 - val_loss: 1.1784e-05 - val_acc: 0.0000e+00\n",
      "Epoch 65/200\n",
      " - 5s - loss: 5.0382e-06 - acc: 5.7870e-04 - val_loss: 2.3849e-05 - val_acc: 0.0000e+00\n",
      "Epoch 66/200\n"
     ]
    }
   ],
   "source": [
    "model = Sequential()\n",
    "model.add(LSTM(200, activation='relu', input_shape=(n_steps, n_features)))\n",
    "model.add(Dense(1))\n",
    "model.compile(optimizer='adam', loss='mse', metrics=['accuracy'])\n",
    "# fit model\n",
    "%time history=model.fit(X_train, y_train, \\\n",
    "                        validation_data=validation_data, \\\n",
    "                        epochs=200, batch_size=10, verbose=2)\n"
   ]
  },
  {
   "cell_type": "code",
   "execution_count": 9,
   "metadata": {},
   "outputs": [
    {
     "name": "stdout",
     "output_type": "stream",
     "text": [
      "yhat shape is (205, 1)\n",
      "pred shape is (205,)\n"
     ]
    },
    {
     "data": {
      "text/plain": [
       "2790.4691815637634"
      ]
     },
     "execution_count": 9,
     "metadata": {},
     "output_type": "execute_result"
    }
   ],
   "source": [
    "yhat = model.predict(X_test)\n",
    "a = np.zeros((205,21))\n",
    "print(\"yhat shape is {}\".format(yhat.shape))\n",
    "pred = np.concatenate((a, yhat),  axis=1)\n",
    "pred = scaler.inverse_transform(pred)\n",
    "pred = pred[:,-1]\n",
    "print(\"pred shape is {}\".format(pred.shape))\n",
    "pred[0]"
   ]
  },
  {
   "cell_type": "code",
   "execution_count": 10,
   "metadata": {},
   "outputs": [
    {
     "name": "stdout",
     "output_type": "stream",
     "text": [
      "yhat shape is (205,)\n",
      "new_y shape is (205, 1)\n"
     ]
    },
    {
     "data": {
      "text/plain": [
       "2783.02001953125"
      ]
     },
     "execution_count": 10,
     "metadata": {},
     "output_type": "execute_result"
    }
   ],
   "source": [
    "print(\"yhat shape is {}\".format(y_test.shape))\n",
    "new_y = y_test.reshape(y_test.shape[0],1)\n",
    "print(\"new_y shape is {}\".format(new_y.shape))\n",
    "y_pred = np.concatenate((a, new_y),  axis=1)\n",
    "y_pred = scaler.inverse_transform(y_pred)\n",
    "y_pred = y_pred[:,-1]\n",
    "y_pred[0]"
   ]
  },
  {
   "cell_type": "code",
   "execution_count": 11,
   "metadata": {},
   "outputs": [
    {
     "name": "stdout",
     "output_type": "stream",
     "text": [
      "Test Score: 31.23 RMSE\n"
     ]
    }
   ],
   "source": [
    "testScore = mean_squared_error(pred, y_pred)\n",
    "print('Test Score: %.2f RMSE' % (testScore))"
   ]
  },
  {
   "cell_type": "code",
   "execution_count": null,
   "metadata": {},
   "outputs": [],
   "source": [
    "# make predictions\n",
    "# trainPredict = model.predict(X_train)\n",
    "# testPredict = model.predict(X_test)\n",
    "# print(trainPredict.shape)\n",
    "\n",
    "# invert predictions\n",
    "# trainPredict = scaler.inverse_transform(trainPredict)\n",
    "# trainY = scaler.inverse_transform([y_train])\n",
    "# testPredict = scaler.inverse_transform(testPredict)\n",
    "# testY = scaler.inverse_transform([y_test])\n",
    "\n",
    "# calculate root mean squared error\n",
    "# trainScore = math.sqrt(mean_squared_error(trainY[0], trainPredict[:,0]))\n",
    "# print('Train Score: %.2f RMSE' % (trainScore))\n",
    "# testScore = math.sqrt(mean_squared_error(testY[0], testPredict[:,0]))\n",
    "# print('Test Score: %.2f RMSE' % (testScore))"
   ]
  },
  {
   "cell_type": "code",
   "execution_count": 12,
   "metadata": {},
   "outputs": [
    {
     "data": {
      "image/png": "[encoded data removed]",
      "text/plain": [
       "<Figure size 432x288 with 1 Axes>"
      ]
     },
     "metadata": {
      "needs_background": "light"
     },
     "output_type": "display_data"
    }
   ],
   "source": [
    "# summarize history for loss\n",
    "loss = history.history['loss']\n",
    "val_loss = history.history['val_loss']\n",
    "\n",
    "# loss = [min(x, 1000) for x in loss]\n",
    "# val_loss = [min(x, 1000) for x in val_loss]\n",
    "\n",
    "plt.plot(loss[1:])\n",
    "plt.plot(val_loss[1:])\n",
    "plt.title('model loss')\n",
    "plt.ylabel('loss')\n",
    "plt.xlabel('epoch')\n",
    "plt.legend(['train', 'validation'], loc='upper left')\n",
    "plt.show()"
   ]
  },
  {
   "cell_type": "code",
   "execution_count": 20,
   "metadata": {},
   "outputs": [
    {
     "data": {
      "image/png": "[encoded data removed]",
      "text/plain": [
       "<Figure size 432x288 with 1 Axes>"
      ]
     },
     "metadata": {
      "needs_background": "light"
     },
     "output_type": "display_data"
    }
   ],
   "source": [
    "acc = history.history['acc']\n",
    "val_acc = history.history['val_acc']\n",
    "\n",
    "# acc = [min(x, 1000) for x in acc]\n",
    "# val_acc = [min(x, 1000) for x in val_acc]\n",
    "\n",
    "plt.plot(y_pred[1:])\n",
    "plt.plot(pred)\n",
    "plt.title('model accuracy')\n",
    "plt.ylabel('accuracy')\n",
    "plt.xlabel('epoch')\n",
    "plt.legend(['train', 'test'], loc='upper left')\n",
    "plt.show()\n"
   ]
  },
  {
   "cell_type": "code",
   "execution_count": null,
   "metadata": {},
   "outputs": [],
   "source": [
    "# "
   ]
  },
  {
   "cell_type": "code",
   "execution_count": null,
   "metadata": {},
   "outputs": [],
   "source": []
  }
 ],
 "metadata": {
  "kernelspec": {
   "display_name": "ai",
   "language": "python",
   "name": "ai"
  },
  "language_info": {
   "codemirror_mode": {
    "name": "ipython",
    "version": 3
   },
   "file_extension": ".py",
   "mimetype": "text/x-python",
   "name": "python",
   "nbconvert_exporter": "python",
   "pygments_lexer": "ipython3",
   "version": "3.7.3"
  }
 },
 "nbformat": 4,
 "nbformat_minor": 2
}
